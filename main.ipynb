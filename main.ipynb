{
 "cells": [
  {
   "cell_type": "code",
   "execution_count": 20,
   "metadata": {},
   "outputs": [],
   "source": [
    "import gzip\n",
    "import os\n",
    "from os.path import isfile, join\n",
    "import numpy as np\n",
    "\n",
    "mnist_path = 'dataset'"
   ]
  },
  {
   "cell_type": "code",
   "execution_count": 21,
   "metadata": {},
   "outputs": [],
   "source": [
    "def list_files(mnist_path):\n",
    "    return [join(mnist_path,f) for f in os.listdir(mnist_path) if isfile(join(mnist_path, f))]\n"
   ]
  },
  {
   "cell_type": "code",
   "execution_count": 22,
   "metadata": {},
   "outputs": [
    {
     "name": "stdout",
     "output_type": "stream",
     "text": [
      "dataset\\t10k-images-idx3-ubyte.gz\n",
      "dataset\\t10k-labels-idx1-ubyte.gz\n",
      "dataset\\train-images-idx3-ubyte.gz\n",
      "dataset\\train-labels-idx1-ubyte.gz\n"
     ]
    }
   ],
   "source": [
    "\n",
    "for f in list_files(mnist_path): print(f)"
   ]
  },
  {
   "cell_type": "code",
   "execution_count": 27,
   "metadata": {},
   "outputs": [],
   "source": [
    "def get_images(mnist_path):\n",
    "    for f in list_files(mnist_path):\n",
    "        if 'train-images' in f:\n",
    "            with gzip.open(f, 'rb') as data:\n",
    "                _ = int.from_bytes(data.read(4), 'big')\n",
    "                num_images = int.from_bytes(data.read(4), 'big')\n",
    "                rows = int.from_bytes(data.read(4), 'big')\n",
    "                cols = int.from_bytes(data.read(4), 'big')\n",
    "                train_images = data.read()\n",
    "                x_train = np.frombuffer(train_images, dtype=np.uint8)\n",
    "                x_train = x_train.reshape((num_images, rows, cols))\n",
    "        elif 'train-labels' in f:\n",
    "            with gzip.open(f, 'rb') as data:\n",
    "                train_labels = data.read()[8:]\n",
    "                y_train = np.frombuffer(train_labels, dtype=np.uint8)\n",
    "        if 't10k-images' in f:\n",
    "            with gzip.open(f, 'rb') as data:\n",
    "                _ = int.from_bytes(data.read(4), 'big')\n",
    "                num_images = int.from_bytes(data.read(4), 'big')\n",
    "                rows = int.from_bytes(data.read(4), 'big')\n",
    "                cols = int.from_bytes(data.read(4), 'big')\n",
    "                test_images = data.read()\n",
    "                x_test = np.frombuffer(test_images, dtype=np.uint8)\n",
    "                x_test = x_test.reshape((num_images, rows, cols))\n",
    "        elif 't10k-labels' in f:\n",
    "            with gzip.open(f, 'rb') as data:\n",
    "                test_labels = data.read()[8:]\n",
    "                y_test = np.frombuffer(test_labels, dtype=np.uint8)\n",
    "    \n",
    "    return x_train, y_train, x_test, y_test        "
   ]
  },
  {
   "cell_type": "code",
   "execution_count": 28,
   "metadata": {},
   "outputs": [],
   "source": [
    "x_train, y_train, x_test, y_train = get_images(mnist_path)"
   ]
  },
  {
   "cell_type": "code",
   "execution_count": null,
   "metadata": {},
   "outputs": [],
   "source": []
  }
 ],
 "metadata": {
  "kernelspec": {
   "display_name": "Python 3",
   "language": "python",
   "name": "python3"
  },
  "language_info": {
   "codemirror_mode": {
    "name": "ipython",
    "version": 3
   },
   "file_extension": ".py",
   "mimetype": "text/x-python",
   "name": "python",
   "nbconvert_exporter": "python",
   "pygments_lexer": "ipython3",
   "version": "3.12.0"
  }
 },
 "nbformat": 4,
 "nbformat_minor": 2
}
