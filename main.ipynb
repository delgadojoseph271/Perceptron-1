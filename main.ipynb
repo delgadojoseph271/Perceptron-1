{
 "cells": [
  {
   "cell_type": "code",
   "execution_count": 2,
   "metadata": {},
   "outputs": [],
   "source": [
    "import gzip\n",
    "import os\n",
    "from os.path import isfile, join\n",
    "import numpy as np\n",
    "\n",
    "mnist_path = 'dataset'"
   ]
  },
  {
   "cell_type": "code",
   "execution_count": 3,
   "metadata": {},
   "outputs": [],
   "source": [
    "def list_files(mnist_path):\n",
    "    return [join(mnist_path,f) for f in os.listdir(mnist_path) if isfile(join(mnist_path, f))]\n"
   ]
  },
  {
   "cell_type": "code",
   "execution_count": 4,
   "metadata": {},
   "outputs": [
    {
     "name": "stdout",
     "output_type": "stream",
     "text": [
      "dataset\\t10k-images-idx3-ubyte.gz\n",
      "dataset\\t10k-labels-idx1-ubyte.gz\n",
      "dataset\\train-images-idx3-ubyte.gz\n",
      "dataset\\train-labels-idx1-ubyte.gz\n"
     ]
    }
   ],
   "source": [
    "\n",
    "for f in list_files(mnist_path): print(f)"
   ]
  },
  {
   "cell_type": "code",
   "execution_count": 6,
   "metadata": {},
   "outputs": [],
   "source": [
    "def get_images(mnist_path):\n",
    "    for f in list_files(mnist_path):\n",
    "        if 'train-images' in f:\n",
    "            with gzip.open(f, 'rb') as data:\n",
    "                _ = int.from_bytes(data.read(4), 'big')\n",
    "                num_images = int.from_bytes(data.read(4), 'big')\n",
    "                rows = int.from_bytes(data.read(4), 'big')\n",
    "                cols = int.from_bytes(data.read(4), 'big')\n",
    "                train_images = data.read()\n",
    "                x_train = np.frombuffer(train_images, dtype=np.uint8)\n",
    "                x_train = x_train.reshape((num_images, rows, cols))\n",
    "        elif 'train-labels' in f:\n",
    "            with gzip.open(f, 'rb') as data:\n",
    "                train_labels = data.read()[8:]\n",
    "                y_train = np.frombuffer(train_labels, dtype=np.uint8)\n",
    "        if 't10k-images' in f:\n",
    "            with gzip.open(f, 'rb') as data:\n",
    "                _ = int.from_bytes(data.read(4), 'big')\n",
    "                num_images = int.from_bytes(data.read(4), 'big')\n",
    "                rows = int.from_bytes(data.read(4), 'big')\n",
    "                cols = int.from_bytes(data.read(4), 'big')\n",
    "                test_images = data.read()\n",
    "                x_test = np.frombuffer(test_images, dtype=np.uint8)\n",
    "                x_test = x_test.reshape((num_images, rows, cols))\n",
    "        elif 't10k-labels' in f:\n",
    "            with gzip.open(f, 'rb') as data:\n",
    "                test_labels = data.read()[8:]\n",
    "                y_test = np.frombuffer(test_labels, dtype=np.uint8)\n",
    "    \n",
    "    return x_train, y_train, x_test, y_test        "
   ]
  },
  {
   "cell_type": "code",
   "execution_count": 7,
   "metadata": {},
   "outputs": [],
   "source": [
    "x_train, y_train, x_test, y_test = get_images(mnist_path)"
   ]
  },
  {
   "cell_type": "code",
   "execution_count": 8,
   "metadata": {},
   "outputs": [],
   "source": [
    "import matplotlib.pyplot as plt"
   ]
  },
  {
   "cell_type": "code",
   "execution_count": 9,
   "metadata": {},
   "outputs": [],
   "source": [
    "def plot_number(image):\n",
    "    plt.imshow(image.squeeze(), cmap=plt.get_cmap('gray'))\n",
    "    plt.axis('off')\n"
   ]
  },
  {
   "cell_type": "code",
   "execution_count": 36,
   "metadata": {},
   "outputs": [
    {
     "name": "stdout",
     "output_type": "stream",
     "text": [
      "5\n"
     ]
    },
    {
     "data": {
      "image/png": "[encoded data removed]",
      "text/plain": [
       "<Figure size 640x480 with 1 Axes>"
      ]
     },
     "metadata": {},
     "output_type": "display_data"
    }
   ],
   "source": [
    "i = 0\n",
    "\n",
    "print(y_train[i])\n",
    "plot_number(x_train[i])"
   ]
  },
  {
   "cell_type": "code",
   "execution_count": null,
   "metadata": {},
   "outputs": [],
   "source": [
    "import pandas as pd\n",
    "\n"
   ]
  },
  {
   "cell_type": "code",
   "execution_count": 28,
   "metadata": {},
   "outputs": [
    {
     "name": "stdout",
     "output_type": "stream",
     "text": [
      "[7 2 1 ... 4 5 6]\n",
      "[[[0 0 0 ... 0 0 0]\n",
      "  [0 0 0 ... 0 0 0]\n",
      "  [0 0 0 ... 0 0 0]\n",
      "  ...\n",
      "  [0 0 0 ... 0 0 0]\n",
      "  [0 0 0 ... 0 0 0]\n",
      "  [0 0 0 ... 0 0 0]]\n",
      "\n",
      " [[0 0 0 ... 0 0 0]\n",
      "  [0 0 0 ... 0 0 0]\n",
      "  [0 0 0 ... 0 0 0]\n",
      "  ...\n",
      "  [0 0 0 ... 0 0 0]\n",
      "  [0 0 0 ... 0 0 0]\n",
      "  [0 0 0 ... 0 0 0]]\n",
      "\n",
      " [[0 0 0 ... 0 0 0]\n",
      "  [0 0 0 ... 0 0 0]\n",
      "  [0 0 0 ... 0 0 0]\n",
      "  ...\n",
      "  [0 0 0 ... 0 0 0]\n",
      "  [0 0 0 ... 0 0 0]\n",
      "  [0 0 0 ... 0 0 0]]\n",
      "\n",
      " ...\n",
      "\n",
      " [[0 0 0 ... 0 0 0]\n",
      "  [0 0 0 ... 0 0 0]\n",
      "  [0 0 0 ... 0 0 0]\n",
      "  ...\n",
      "  [0 0 0 ... 0 0 0]\n",
      "  [0 0 0 ... 0 0 0]\n",
      "  [0 0 0 ... 0 0 0]]\n",
      "\n",
      " [[0 0 0 ... 0 0 0]\n",
      "  [0 0 0 ... 0 0 0]\n",
      "  [0 0 0 ... 0 0 0]\n",
      "  ...\n",
      "  [0 0 0 ... 0 0 0]\n",
      "  [0 0 0 ... 0 0 0]\n",
      "  [0 0 0 ... 0 0 0]]\n",
      "\n",
      " [[0 0 0 ... 0 0 0]\n",
      "  [0 0 0 ... 0 0 0]\n",
      "  [0 0 0 ... 0 0 0]\n",
      "  ...\n",
      "  [0 0 0 ... 0 0 0]\n",
      "  [0 0 0 ... 0 0 0]\n",
      "  [0 0 0 ... 0 0 0]]]\n"
     ]
    }
   ],
   "source": [
    "print(y_test)\n",
    "print(x_train)\n"
   ]
  },
  {
   "cell_type": "code",
   "execution_count": 38,
   "metadata": {},
   "outputs": [
    {
     "name": "stdout",
     "output_type": "stream",
     "text": [
      "Lote 1: tamaño (938, 28, 28)\n",
      "Lote 2: tamaño (938, 28, 28)\n",
      "Lote 3: tamaño (938, 28, 28)\n",
      "Lote 4: tamaño (938, 28, 28)\n",
      "Lote 5: tamaño (938, 28, 28)\n",
      "Lote 6: tamaño (938, 28, 28)\n",
      "Lote 7: tamaño (938, 28, 28)\n",
      "Lote 8: tamaño (938, 28, 28)\n",
      "Lote 9: tamaño (938, 28, 28)\n",
      "Lote 10: tamaño (938, 28, 28)\n",
      "Lote 11: tamaño (938, 28, 28)\n",
      "Lote 12: tamaño (938, 28, 28)\n",
      "Lote 13: tamaño (938, 28, 28)\n",
      "Lote 14: tamaño (938, 28, 28)\n",
      "Lote 15: tamaño (938, 28, 28)\n",
      "Lote 16: tamaño (938, 28, 28)\n",
      "Lote 17: tamaño (938, 28, 28)\n",
      "Lote 18: tamaño (938, 28, 28)\n",
      "Lote 19: tamaño (938, 28, 28)\n",
      "Lote 20: tamaño (938, 28, 28)\n",
      "Lote 21: tamaño (938, 28, 28)\n",
      "Lote 22: tamaño (938, 28, 28)\n",
      "Lote 23: tamaño (938, 28, 28)\n",
      "Lote 24: tamaño (938, 28, 28)\n",
      "Lote 25: tamaño (938, 28, 28)\n",
      "Lote 26: tamaño (938, 28, 28)\n",
      "Lote 27: tamaño (938, 28, 28)\n",
      "Lote 28: tamaño (938, 28, 28)\n",
      "Lote 29: tamaño (938, 28, 28)\n",
      "Lote 30: tamaño (938, 28, 28)\n",
      "Lote 31: tamaño (938, 28, 28)\n",
      "Lote 32: tamaño (938, 28, 28)\n",
      "Lote 33: tamaño (937, 28, 28)\n",
      "Lote 34: tamaño (937, 28, 28)\n",
      "Lote 35: tamaño (937, 28, 28)\n",
      "Lote 36: tamaño (937, 28, 28)\n",
      "Lote 37: tamaño (937, 28, 28)\n",
      "Lote 38: tamaño (937, 28, 28)\n",
      "Lote 39: tamaño (937, 28, 28)\n",
      "Lote 40: tamaño (937, 28, 28)\n",
      "Lote 41: tamaño (937, 28, 28)\n",
      "Lote 42: tamaño (937, 28, 28)\n",
      "Lote 43: tamaño (937, 28, 28)\n",
      "Lote 44: tamaño (937, 28, 28)\n",
      "Lote 45: tamaño (937, 28, 28)\n",
      "Lote 46: tamaño (937, 28, 28)\n",
      "Lote 47: tamaño (937, 28, 28)\n",
      "Lote 48: tamaño (937, 28, 28)\n",
      "Lote 49: tamaño (937, 28, 28)\n",
      "Lote 50: tamaño (937, 28, 28)\n",
      "Lote 51: tamaño (937, 28, 28)\n",
      "Lote 52: tamaño (937, 28, 28)\n",
      "Lote 53: tamaño (937, 28, 28)\n",
      "Lote 54: tamaño (937, 28, 28)\n",
      "Lote 55: tamaño (937, 28, 28)\n",
      "Lote 56: tamaño (937, 28, 28)\n",
      "Lote 57: tamaño (937, 28, 28)\n",
      "Lote 58: tamaño (937, 28, 28)\n",
      "Lote 59: tamaño (937, 28, 28)\n",
      "Lote 60: tamaño (937, 28, 28)\n",
      "Lote 61: tamaño (937, 28, 28)\n",
      "Lote 62: tamaño (937, 28, 28)\n",
      "Lote 63: tamaño (937, 28, 28)\n",
      "Lote 64: tamaño (937, 28, 28)\n"
     ]
    }
   ],
   "source": [
    "# Número de lotes deseado\n",
    "num_batches = 64\n",
    "\n",
    "# Dividir el conjunto de datos en lotes\n",
    "batches = np.array_split(x_train, num_batches)\n",
    "\n",
    "for i, batch in enumerate(batches):\n",
    "    print(f\"Lote {i+1}: tamaño {batch.shape}\")\n"
   ]
  }
 ],
 "metadata": {
  "kernelspec": {
   "display_name": "Python 3",
   "language": "python",
   "name": "python3"
  },
  "language_info": {
   "codemirror_mode": {
    "name": "ipython",
    "version": 3
   },
   "file_extension": ".py",
   "mimetype": "text/x-python",
   "name": "python",
   "nbconvert_exporter": "python",
   "pygments_lexer": "ipython3",
   "version": "3.12.0"
  }
 },
 "nbformat": 4,
 "nbformat_minor": 2
}
